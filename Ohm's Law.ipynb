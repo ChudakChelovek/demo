{
  "cells": [
    {
      "metadata": {
        "trusted": true
      },
      "cell_type": "code",
      "source": "# siries\nr= input(\"write R1 \")\n\nr2= input(\"write R2 \")\nV= input (\"write voltage\")\nR1= int(r)\nR2= int(r2)\nV1= int(V)\nprint (V1/R1+R2)\n",
      "execution_count": 15,
      "outputs": [
        {
          "output_type": "stream",
          "name": "stdout",
          "text": "write R1 10\nwrite R2 10\nwrite voltage5\n10.5\n"
        }
      ]
    },
    {
      "metadata": {
        "trusted": true
      },
      "cell_type": "code",
      "source": "#parallel\nr= input(\"write R1 \")\nr2= input(\"write R2\")\nV= input (\"write voltage\")\nR1= int(r)\nR2= int(r2)\nV1= int(V)\nprint (V1/((R1*R2)/(R1+R2)))",
      "execution_count": 18,
      "outputs": [
        {
          "output_type": "stream",
          "name": "stdout",
          "text": "write R1 10\nwrite R210\nwrite voltage5\n1.0\n"
        }
      ]
    },
    {
      "metadata": {
        "trusted": true
      },
      "cell_type": "code",
      "source": "",
      "execution_count": null,
      "outputs": []
    }
  ],
  "metadata": {
    "kernelspec": {
      "name": "python36",
      "display_name": "Python 3.6",
      "language": "python"
    },
    "language_info": {
      "mimetype": "text/x-python",
      "nbconvert_exporter": "python",
      "name": "python",
      "pygments_lexer": "ipython3",
      "version": "3.6.6",
      "file_extension": ".py",
      "codemirror_mode": {
        "version": 3,
        "name": "ipython"
      }
    }
  },
  "nbformat": 4,
  "nbformat_minor": 2
}