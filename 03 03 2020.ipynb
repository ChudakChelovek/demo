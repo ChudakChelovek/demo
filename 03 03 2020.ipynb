{
  "cells": [
    {
      "metadata": {
        "trusted": true
      },
      "cell_type": "code",
      "source": "car = \"Honda\"; print(car[1])",
      "execution_count": 1,
      "outputs": [
        {
          "output_type": "stream",
          "text": "o\n",
          "name": "stdout"
        }
      ]
    },
    {
      "metadata": {
        "trusted": true
      },
      "cell_type": "code",
      "source": "x = '''\nI ride my bicycle\n    to work.''' \nx",
      "execution_count": 2,
      "outputs": [
        {
          "output_type": "execute_result",
          "execution_count": 2,
          "data": {
            "text/plain": "'\\nI ride my bicycle\\n    to work.'"
          },
          "metadata": {}
        }
      ]
    },
    {
      "metadata": {
        "trusted": true
      },
      "cell_type": "code",
      "source": "print (\"This is not a \\n raw string\")",
      "execution_count": 9,
      "outputs": [
        {
          "output_type": "stream",
          "text": "This is not a \n raw string\n",
          "name": "stdout"
        }
      ]
    },
    {
      "metadata": {
        "trusted": true
      },
      "cell_type": "code",
      "source": "college = \"Clark\"\ncourse = \"CS 120\"\nprint (f\"We're taking {course} at {college} college.\")",
      "execution_count": 10,
      "outputs": [
        {
          "output_type": "stream",
          "text": "We're taking CS 120 at Clark college.\n",
          "name": "stdout"
        }
      ]
    },
    {
      "metadata": {
        "trusted": true
      },
      "cell_type": "code",
      "source": "s1 = \"Hello\"; s2 = \"World\" \nprint (f\"{s1} - {s2} : {pi}, {pi:. 3f}\")\nvalue= 15\nprint (f\"int: {value:d}; ",
      "execution_count": 15,
      "outputs": [
        {
          "output_type": "error",
          "ename": "NameError",
          "evalue": "name 'pi' is not defined",
          "traceback": [
            "\u001b[0;31m---------------------------------------------------------------------------\u001b[0m",
            "\u001b[0;31mNameError\u001b[0m                                 Traceback (most recent call last)",
            "\u001b[0;32m<ipython-input-15-dd875694d7c2>\u001b[0m in \u001b[0;36m<module>\u001b[0;34m\u001b[0m\n\u001b[1;32m      1\u001b[0m \u001b[0ms1\u001b[0m \u001b[0;34m=\u001b[0m \u001b[0;34m\"Hello\"\u001b[0m\u001b[0;34m;\u001b[0m \u001b[0ms2\u001b[0m \u001b[0;34m=\u001b[0m \u001b[0;34m\"World\"\u001b[0m\u001b[0;34m\u001b[0m\u001b[0m\n\u001b[0;32m----> 2\u001b[0;31m \u001b[0mprint\u001b[0m \u001b[0;34m(\u001b[0m\u001b[0;34mf\"{s1} - {s2} : {pi}, {pi:. 3f}\"\u001b[0m\u001b[0;34m)\u001b[0m\u001b[0;34m\u001b[0m\u001b[0m\n\u001b[0m\u001b[1;32m      3\u001b[0m \u001b[0mvalue\u001b[0m\u001b[0;34m=\u001b[0m \u001b[0;36m15\u001b[0m\u001b[0;34m\u001b[0m\u001b[0m\n\u001b[1;32m      4\u001b[0m \u001b[0mprint\u001b[0m \u001b[0;34m(\u001b[0m\u001b[0;34mf\"{s1} - {s2} : {pi}, {pi:. 3f}\"\u001b[0m\u001b[0;34m)\u001b[0m\u001b[0;34m\u001b[0m\u001b[0m\n",
            "\u001b[0;31mNameError\u001b[0m: name 'pi' is not defined"
          ]
        }
      ]
    },
    {
      "metadata": {
        "trusted": true
      },
      "cell_type": "code",
      "source": "from math import sin \nprint(f\"sin(1)is (sin(1):.3f)\")",
      "execution_count": 14,
      "outputs": [
        {
          "output_type": "stream",
          "text": "sin(1)is (sin(1):.3f)\n",
          "name": "stdout"
        }
      ]
    },
    {
      "metadata": {
        "trusted": true
      },
      "cell_type": "code",
      "source": "value= 15\nprint (f\"int: {value:d}; hex{value:x}; bin{value:b}; oct{value:o};\")",
      "execution_count": 16,
      "outputs": [
        {
          "output_type": "stream",
          "text": "int: 15; hexf; bin1111; oct17;\n",
          "name": "stdout"
        }
      ]
    },
    {
      "metadata": {
        "trusted": true
      },
      "cell_type": "code",
      "source": "\"--\"*3",
      "execution_count": 19,
      "outputs": [
        {
          "output_type": "execute_result",
          "execution_count": 19,
          "data": {
            "text/plain": "'------'"
          },
          "metadata": {}
        }
      ]
    },
    {
      "metadata": {
        "trusted": true
      },
      "cell_type": "code",
      "source": "\"A|B|C\".split(\"|\")",
      "execution_count": 20,
      "outputs": [
        {
          "output_type": "execute_result",
          "execution_count": 20,
          "data": {
            "text/plain": "['A', 'B', 'C']"
          },
          "metadata": {}
        }
      ]
    },
    {
      "metadata": {
        "trusted": true
      },
      "cell_type": "code",
      "source": "\"|\". join([\"A\", \"B\", \"C\"])",
      "execution_count": 27,
      "outputs": [
        {
          "output_type": "execute_result",
          "execution_count": 27,
          "data": {
            "text/plain": "'A|B|C'"
          },
          "metadata": {}
        }
      ]
    },
    {
      "metadata": {
        "trusted": true
      },
      "cell_type": "code",
      "source": "s = \"  white strip  \"\ns= s.strip()\nprint(s)\ns",
      "execution_count": 28,
      "outputs": [
        {
          "output_type": "stream",
          "text": "white strip\n",
          "name": "stdout"
        },
        {
          "output_type": "execute_result",
          "execution_count": 28,
          "data": {
            "text/plain": "'white strip'"
          },
          "metadata": {}
        }
      ]
    },
    {
      "metadata": {
        "trusted": true
      },
      "cell_type": "code",
      "source": "from ipywidgets import interact\n@interact(msg=[\"hello\", \"world\", \"bye\"], char=\"e\")\ndef John (msg,char):\n    if char in msg: return True\n    return False",
      "execution_count": 30,
      "outputs": [
        {
          "output_type": "display_data",
          "data": {
            "application/vnd.jupyter.widget-view+json": {
              "model_id": "a10c9d42b39c4e33a1d99833f7ef85a8",
              "version_minor": 0,
              "version_major": 2
            },
            "text/plain": "interactive(children=(Dropdown(description='msg', options=('hello', 'world', 'bye'), value='hello'), Text(valu…"
          },
          "metadata": {}
        }
      ]
    },
    {
      "metadata": {
        "trusted": true
      },
      "cell_type": "code",
      "source": "x=(1)\ntype(x)",
      "execution_count": 31,
      "outputs": [
        {
          "output_type": "execute_result",
          "execution_count": 31,
          "data": {
            "text/plain": "int"
          },
          "metadata": {}
        }
      ]
    },
    {
      "metadata": {
        "trusted": true
      },
      "cell_type": "code",
      "source": "from ipywidgets import interact\n@interact \ndef led(x = [1, 2, 3, 4, 5, 6]):\n    r = x%2\n    msg = \"OFF\" if r else \"ON\"\n    print (\"Led\", msg,  \"- x:\", x)",
      "execution_count": 32,
      "outputs": [
        {
          "output_type": "display_data",
          "data": {
            "application/vnd.jupyter.widget-view+json": {
              "model_id": "45c967953c70434794b1b81ca48c9fb2",
              "version_minor": 0,
              "version_major": 2
            },
            "text/plain": "interactive(children=(Dropdown(description='x', options=(1, 2, 3, 4, 5, 6), value=1), Output()), _dom_classes=…"
          },
          "metadata": {}
        }
      ]
    },
    {
      "metadata": {
        "trusted": true
      },
      "cell_type": "code",
      "source": "lst = [\"a\", \"b\"]\nnewL = lst\nnewL. append (\"d\")\nprint(lst, newL)\n",
      "execution_count": 34,
      "outputs": [
        {
          "output_type": "stream",
          "text": "['a', 'b', 'd'] ['a', 'b', 'd']\n",
          "name": "stdout"
        }
      ]
    },
    {
      "metadata": {
        "trusted": true
      },
      "cell_type": "code",
      "source": "",
      "execution_count": null,
      "outputs": []
    }
  ],
  "metadata": {
    "kernelspec": {
      "name": "python36",
      "display_name": "Python 3.6",
      "language": "python"
    },
    "language_info": {
      "mimetype": "text/x-python",
      "nbconvert_exporter": "python",
      "name": "python",
      "pygments_lexer": "ipython3",
      "version": "3.6.6",
      "file_extension": ".py",
      "codemirror_mode": {
        "version": 3,
        "name": "ipython"
      }
    }
  },
  "nbformat": 4,
  "nbformat_minor": 2
}