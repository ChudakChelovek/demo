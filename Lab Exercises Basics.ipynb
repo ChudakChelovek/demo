{
  "cells": [
    {
      "metadata": {
        "trusted": true
      },
      "cell_type": "code",
      "source": "#exercise 1\nfor x in range(5, 37, +2): print(x)",
      "execution_count": 5,
      "outputs": [
        {
          "output_type": "stream",
          "text": "5\n7\n9\n11\n13\n15\n17\n19\n21\n23\n25\n27\n29\n31\n33\n35\n",
          "name": "stdout"
        }
      ]
    },
    {
      "metadata": {
        "trusted": true
      },
      "cell_type": "code",
      "source": "#exercise 2.1\nx = 0 \nwhile x<=10:\n    print( int(9/5*x +32) )\n    x=x+1",
      "execution_count": 20,
      "outputs": [
        {
          "output_type": "stream",
          "text": "32\n33\n35\n37\n39\n41\n42\n44\n46\n48\n50\n",
          "name": "stdout"
        }
      ]
    },
    {
      "metadata": {
        "trusted": true
      },
      "cell_type": "code",
      "source": "#exercises 2.2\nx=0\nfor x in range(0,10): \n    print( int(9/5*x +32) )\n    x=x+1",
      "execution_count": 23,
      "outputs": [
        {
          "output_type": "stream",
          "text": "32\n33\n35\n37\n39\n41\n42\n44\n46\n48\n",
          "name": "stdout"
        }
      ]
    },
    {
      "metadata": {
        "trusted": true
      },
      "cell_type": "code",
      "source": "#exercise 3\nx=input(\"word\")\nfor item in x:\n    print(ord(item))\n\nfor item in x:\n    print(hex(ord(item)))\n    \nfor item in x:\n    print(bin(ord(item)))    ",
      "execution_count": 46,
      "outputs": [
        {
          "output_type": "stream",
          "name": "stdout",
          "text": "wordabc\n97\n98\n99\n0x61\n0x62\n0x63\n0b1100001\n0b1100010\n0b1100011\n"
        }
      ]
    },
    {
      "metadata": {
        "trusted": true
      },
      "cell_type": "code",
      "source": "\nfrom ipywidgets import interact\nv=5\n@interact(i=5,r=5)\ndef circuit (i,r):\n    print(\"p=\",v*i)\n    print('v=',i*r)\n@interact(i=\"5\",r=\"5\")\ndef circuit(i,r):\n    print(\"p=\",int(v)*int(i))\n    print('v=',int(i)*int(r))",
      "execution_count": 6,
      "outputs": [
        {
          "output_type": "display_data",
          "data": {
            "application/vnd.jupyter.widget-view+json": {
              "model_id": "fc3a0c04661f464e8acea55109531148",
              "version_minor": 0,
              "version_major": 2
            },
            "text/plain": "interactive(children=(IntSlider(value=5, description='i', max=15, min=-5), IntSlider(value=5, description='r',…"
          },
          "metadata": {}
        },
        {
          "output_type": "display_data",
          "data": {
            "application/vnd.jupyter.widget-view+json": {
              "model_id": "34d667a9ae70421e8f96316899385ee9",
              "version_minor": 0,
              "version_major": 2
            },
            "text/plain": "interactive(children=(Text(value='5', description='i'), Text(value='5', description='r'), Output()), _dom_clas…"
          },
          "metadata": {}
        }
      ]
    },
    {
      "metadata": {
        "trusted": true
      },
      "cell_type": "code",
      "source": "\nfrom ipywidgets import interact\np=3.14\n@interact\ndef led(x=10):\n    if x<=0:\n        print(0)\n    if x>0:\n        print(\" in int volume=\",int(4/3*p*x*x*x))\n        print(\"  volume=\",(4/3*p*x*x*x))",
      "execution_count": 10,
      "outputs": [
        {
          "output_type": "display_data",
          "data": {
            "application/vnd.jupyter.widget-view+json": {
              "model_id": "6e00c682d7de445ea1a6d67f515d299a",
              "version_minor": 0,
              "version_major": 2
            },
            "text/plain": "interactive(children=(IntSlider(value=10, description='x', max=30, min=-10), Output()), _dom_classes=('widget-…"
          },
          "metadata": {}
        }
      ]
    },
    {
      "metadata": {
        "trusted": true
      },
      "cell_type": "code",
      "source": "\nx= input(\"m kg\")\nintx= int(x)\nprint(\"m stone=\",intx*2.2/14)\n",
      "execution_count": null,
      "outputs": []
    },
    {
      "metadata": {
        "trusted": true
      },
      "cell_type": "code",
      "source": "\nx1=input(\"write cents\")\nq=0\nd=0\np=0\nx= int(x1)\nwhile x>=25:\n    x=x-25\n    q=q+1\nwhile x>=10:\n    x=x+10\n    q=q+1\nwhile x>=1:\n    x=x+1\n    q=q+1\nif x==0:\n    print(\"q=\", q, \"d=\", d, \"p=\", p)",
      "execution_count": null,
      "outputs": [
        {
          "output_type": "stream",
          "name": "stdout",
          "text": "write cents97\n"
        }
      ]
    },
    {
      "metadata": {
        "trusted": true
      },
      "cell_type": "code",
      "source": "from ipywidgets import interact\n@interact \ndef led(x=10)\n    if (x%2)==0\n       print(\"on\")\n    if (x%2)==1\n    print(\"off\")",
      "execution_count": null,
      "outputs": []
    },
    {
      "metadata": {
        "trusted": true
      },
      "cell_type": "code",
      "source": "",
      "execution_count": null,
      "outputs": []
    }
  ],
  "metadata": {
    "kernelspec": {
      "name": "python36",
      "display_name": "Python 3.6",
      "language": "python"
    },
    "language_info": {
      "mimetype": "text/x-python",
      "nbconvert_exporter": "python",
      "name": "python",
      "pygments_lexer": "ipython3",
      "version": "3.6.6",
      "file_extension": ".py",
      "codemirror_mode": {
        "version": 3,
        "name": "ipython"
      }
    }
  },
  "nbformat": 4,
  "nbformat_minor": 2
}